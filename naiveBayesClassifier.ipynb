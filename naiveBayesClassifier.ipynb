{
 "cells": [
  {
   "cell_type": "code",
   "execution_count": 275,
   "metadata": {
    "collapsed": false
   },
   "outputs": [],
   "source": [
    "import pandas as pd\n",
    "import numpy as np\n",
    "from math import log"
   ]
  },
  {
   "cell_type": "code",
   "execution_count": 276,
   "metadata": {
    "collapsed": false
   },
   "outputs": [],
   "source": [
    "data = pd.read_csv(\"census/census-income.data\")"
   ]
  },
  {
   "cell_type": "code",
   "execution_count": 277,
   "metadata": {
    "collapsed": false
   },
   "outputs": [],
   "source": [
    "categorical_attributes = ['ACLSWKR','ADTIND','ADTOCC','AHGA','AHSCOL','AMARITL','AMJIND','AMJOCC','ARACE',\n",
    "                          'AREORGN','ASEX','AUNMEM','AUNTYPE','AWKSTAT','FILESTAT','GRINREG','GRINST','HHDFMX',\n",
    "                          'HHDREL','MIGMTR1','MIGMTR3','MIGMTR4','MIGSAME','MIGSUN','PARENT','PEFNTVTY',\n",
    "                          'PEMNTVTY','PENATVTY','PRCITSHP','SEOTR','VETQVA','VETYN','YEAR', 'INCOME']"
   ]
  },
  {
   "cell_type": "code",
   "execution_count": 278,
   "metadata": {
    "collapsed": false
   },
   "outputs": [],
   "source": [
    "data_categorical = data.loc[:,categorical_attributes]"
   ]
  },
  {
   "cell_type": "code",
   "execution_count": 279,
   "metadata": {
    "collapsed": false
   },
   "outputs": [],
   "source": [
    "# Fix missing values to mode\n",
    "data_categorical.loc[data_categorical.GRINST == \" ?\", \"GRINST\"] = \\\n",
    "data_categorical.loc[data_categorical.GRINST != \" ?\", \"GRINST\"].mode().iloc[0]\n",
    "\n",
    "data_categorical.loc[data_categorical.MIGMTR3 == \" ?\", \"MIGMTR3\"] = \\\n",
    "data_categorical.loc[data_categorical.MIGMTR3 != \" ?\", \"MIGMTR3\"].mode().iloc[0]\n",
    "\n",
    "data_categorical.loc[data_categorical.MIGMTR3 == \" ?\", \"MIGMTR3\"] = \\\n",
    "data_categorical.loc[data_categorical.MIGMTR3 != \" ?\", \"MIGMTR3\"].mode().iloc[0]\n",
    "\n",
    "data_categorical.loc[data_categorical.MIGMTR4 == \" ?\", \"MIGMTR4\"] = \\\n",
    "data_categorical.loc[data_categorical.MIGMTR4 != \" ?\", \"MIGMTR4\"].mode().iloc[0]\n",
    "\n",
    "data_categorical.loc[data_categorical.MIGSAME == \" ?\", \"MIGSAME\"] = \\\n",
    "data_categorical.loc[data_categorical.MIGSAME != \" ?\", \"MIGSAME\"].mode().iloc[0]\n",
    "\n",
    "data_categorical.loc[data_categorical.PEFNTVTY == \" ?\", \"PEFNTVTY\"] = \\\n",
    "data_categorical.loc[data_categorical.PEFNTVTY != \" ?\", \"PEFNTVTY\"].mode().iloc[0]\n",
    "\n",
    "data_categorical.loc[data_categorical.PEMNTVTY == \" ?\", \"PEMNTVTY\"] = \\\n",
    "data_categorical.loc[data_categorical.PEMNTVTY != \" ?\", \"PEMNTVTY\"].mode().iloc[0]\n",
    "\n",
    "data_categorical.loc[data_categorical.PENATVTY == \" ?\", \"PENATVTY\"] = \\\n",
    "data_categorical.loc[data_categorical.PENATVTY != \" ?\", \"PENATVTY\"].mode().iloc[0]"
   ]
  },
  {
   "cell_type": "code",
   "execution_count": 280,
   "metadata": {
    "collapsed": false
   },
   "outputs": [],
   "source": [
    "num_less = data_categorical.loc[data_categorical.INCOME == \" - 50000.\", \"INCOME\"].shape[0]\n",
    "num_more = data_categorical.loc[data_categorical.INCOME == \" 50000+.\", \"INCOME\"].shape[0]\n",
    "num_total = data_categorical.shape[0]\n",
    "prob_less = num_less/num_total\n",
    "prob_more = num_more/num_total\n",
    "log_prob_less = log(prob_less)\n",
    "log_prob_more = log(prob_more)"
   ]
  },
  {
   "cell_type": "code",
   "execution_count": 281,
   "metadata": {
    "collapsed": false
   },
   "outputs": [],
   "source": [
    "class_less = data_categorical.loc[data_categorical.INCOME == \" - 50000.\", :]\n",
    "class_more = data_categorical.loc[data_categorical.INCOME == \" 50000+.\", :]"
   ]
  },
  {
   "cell_type": "code",
   "execution_count": 282,
   "metadata": {
    "collapsed": false
   },
   "outputs": [],
   "source": [
    "probabilities = {}\n",
    "for categorical_attribute in categorical_attributes[:-1]:\n",
    "    probabilities[categorical_attribute] = {\n",
    "        \" - 50000.\" : dict(class_less[categorical_attribute].value_counts()/num_less),\n",
    "        \" 50000+.\" : dict(class_more[categorical_attribute].value_counts()/num_more)\n",
    "    }\n",
    "    \n",
    "for categorical_attribute in probabilities.keys():\n",
    "    for sal_class in probabilities[categorical_attribute].keys():\n",
    "        for attribute_val in probabilities[categorical_attribute][sal_class].keys():\n",
    "            probabilities[categorical_attribute][sal_class][attribute_val] = \\\n",
    "            log(probabilities[categorical_attribute][sal_class][attribute_val])"
   ]
  },
  {
   "cell_type": "code",
   "execution_count": 299,
   "metadata": {
    "collapsed": false
   },
   "outputs": [],
   "source": [
    "data_randomised = data_categorical.iloc[np.random.permutation(data_categorical.shape[0])]\n",
    "train = data_randomised.iloc[:99762]\n",
    "test = data_randomised.iloc[99762:]"
   ]
  },
  {
   "cell_type": "code",
   "execution_count": 297,
   "metadata": {
    "collapsed": false,
    "scrolled": true
   },
   "outputs": [
    {
     "data": {
      "text/plain": [
       "[' 50000+.',\n",
       " ' - 50000.',\n",
       " ' 50000+.',\n",
       " ' 50000+.',\n",
       " ' - 50000.',\n",
       " ' 50000+.',\n",
       " ' - 50000.',\n",
       " ' 50000+.',\n",
       " ' - 50000.',\n",
       " ' - 50000.']"
      ]
     },
     "execution_count": 297,
     "metadata": {},
     "output_type": "execute_result"
    }
   ],
   "source": [
    "results = []\n",
    "\n",
    "for i in range(test.shape[0]):\n",
    "    record = test.iloc[i:i+1]\n",
    "\n",
    "    posterior_less = 0\n",
    "    posterior_more = 0\n",
    "\n",
    "    for categorical_attribute in categorical_attributes[:-1]:\n",
    "    \n",
    "        if record[categorical_attribute].iloc[0] in probabilities[categorical_attribute][\" - 50000.\"].keys():\n",
    "            posterior_less = posterior_less + \\\n",
    "            probabilities[categorical_attribute][\" - 50000.\"][record[categorical_attribute].iloc[0]]\n",
    "    \n",
    "        if record[categorical_attribute].iloc[0] in probabilities[categorical_attribute][\" 50000+.\"].keys():\n",
    "            posterior_more = posterior_more + \\\n",
    "            probabilities[categorical_attribute][\" 50000+.\"][record[categorical_attribute].iloc[0]]\n",
    "\n",
    "    posterior_less = posterior_less + log_prob_less\n",
    "    posterior_more = posterior_more + log_prob_more\n",
    "\n",
    "    if posterior_less >= posterior_more:\n",
    "        cur_class = \" - 50000.\"\n",
    "    else:\n",
    "        cur_class = \" 50000+.\"\n",
    "    \n",
    "    results.append(cur_class)\n",
    "    \n",
    "test['PREDICTION'] = results"
   ]
  },
  {
   "cell_type": "code",
   "execution_count": null,
   "metadata": {
    "collapsed": false
   },
   "outputs": [],
   "source": []
  },
  {
   "cell_type": "code",
   "execution_count": null,
   "metadata": {
    "collapsed": false
   },
   "outputs": [],
   "source": []
  },
  {
   "cell_type": "code",
   "execution_count": null,
   "metadata": {
    "collapsed": true
   },
   "outputs": [],
   "source": []
  },
  {
   "cell_type": "code",
   "execution_count": null,
   "metadata": {
    "collapsed": true
   },
   "outputs": [],
   "source": []
  },
  {
   "cell_type": "code",
   "execution_count": null,
   "metadata": {
    "collapsed": true
   },
   "outputs": [],
   "source": []
  }
 ],
 "metadata": {
  "kernelspec": {
   "display_name": "Python [Root]",
   "language": "python",
   "name": "Python [Root]"
  },
  "language_info": {
   "codemirror_mode": {
    "name": "ipython",
    "version": 3
   },
   "file_extension": ".py",
   "mimetype": "text/x-python",
   "name": "python",
   "nbconvert_exporter": "python",
   "pygments_lexer": "ipython3",
   "version": "3.5.2"
  }
 },
 "nbformat": 4,
 "nbformat_minor": 0
}
