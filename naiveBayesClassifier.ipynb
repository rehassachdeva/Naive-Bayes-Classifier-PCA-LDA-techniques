{
 "cells": [
  {
   "cell_type": "code",
   "execution_count": 6,
   "metadata": {
    "collapsed": false
   },
   "outputs": [],
   "source": [
    "# Imports\n",
    "import pandas as pd\n",
    "import numpy as np\n",
    "import warnings\n",
    "\n",
    "from math import log\n",
    "from sklearn.metrics import accuracy_score\n",
    "\n",
    "# Disable warnings from being printed\n",
    "warnings.filterwarnings('ignore')"
   ]
  },
  {
   "cell_type": "code",
   "execution_count": 7,
   "metadata": {
    "collapsed": false
   },
   "outputs": [],
   "source": [
    "# Read the data and get the categorical attrbiutes\n",
    "data = pd.read_csv(\"census/census-income.data\")\n",
    "categorical_attributes = ['ACLSWKR','ADTIND','ADTOCC','AHGA','AHSCOL','AMARITL','AMJIND','AMJOCC','ARACE',\n",
    "                          'AREORGN','ASEX','AUNMEM','AUNTYPE','AWKSTAT','FILESTAT','GRINREG','GRINST','HHDFMX',\n",
    "                          'HHDREL','MIGMTR1','MIGMTR3','MIGMTR4','MIGSAME','MIGSUN','PARENT','PEFNTVTY',\n",
    "                          'PEMNTVTY','PENATVTY','PRCITSHP','SEOTR','VETQVA','VETYN','YEAR', 'INCOME']\n",
    "data_categorical = data.loc[:,categorical_attributes]"
   ]
  },
  {
   "cell_type": "code",
   "execution_count": 8,
   "metadata": {
    "collapsed": false
   },
   "outputs": [],
   "source": [
    "# Preprocessing\n",
    "# Fix missing values to mode as all are categorical variables\n",
    "# and have one particular value which is very dominatingly occurring.\n",
    "\n",
    "data_categorical.loc[data_categorical.GRINST == \" ?\", \"GRINST\"] = \\\n",
    "data_categorical.loc[data_categorical.GRINST != \" ?\", \"GRINST\"].mode().iloc[0]\n",
    "\n",
    "data_categorical.loc[data_categorical.MIGMTR3 == \" ?\", \"MIGMTR3\"] = \\\n",
    "data_categorical.loc[data_categorical.MIGMTR3 != \" ?\", \"MIGMTR3\"].mode().iloc[0]\n",
    "\n",
    "data_categorical.loc[data_categorical.MIGMTR4 == \" ?\", \"MIGMTR4\"] = \\\n",
    "data_categorical.loc[data_categorical.MIGMTR4 != \" ?\", \"MIGMTR4\"].mode().iloc[0]\n",
    "\n",
    "data_categorical.loc[data_categorical.MIGSAME == \" ?\", \"MIGSAME\"] = \\\n",
    "data_categorical.loc[data_categorical.MIGSAME != \" ?\", \"MIGSAME\"].mode().iloc[0]\n",
    "\n",
    "data_categorical.loc[data_categorical.PEFNTVTY == \" ?\", \"PEFNTVTY\"] = \\\n",
    "data_categorical.loc[data_categorical.PEFNTVTY != \" ?\", \"PEFNTVTY\"].mode().iloc[0]\n",
    "\n",
    "data_categorical.loc[data_categorical.PEMNTVTY == \" ?\", \"PEMNTVTY\"] = \\\n",
    "data_categorical.loc[data_categorical.PEMNTVTY != \" ?\", \"PEMNTVTY\"].mode().iloc[0]\n",
    "\n",
    "data_categorical.loc[data_categorical.PENATVTY == \" ?\", \"PENATVTY\"] = \\\n",
    "data_categorical.loc[data_categorical.PENATVTY != \" ?\", \"PENATVTY\"].mode().iloc[0]\n",
    "\n",
    "# No other attributes have missing values\n",
    "\n",
    "# As code is a categorical thing. Keeping it float poses problem in using it as dict key.\n",
    "data_categorical[\"MIGMTR1\"] = str(data_categorical[\"MIGMTR1\"])\n",
    "\n",
    "# Add relevant continuous attributes with binning. No of bins decided based on distinct values present.\n",
    "# data_categorical[\"wage_bins\"] = pd.cut(data.AHRSPAY, bins=1000, labels=False)\n",
    "# categorical_attributes.insert(0, \"wage_bins\")\n",
    "\n",
    "# data_categorical[\"capgain_bins\"] = pd.cut(data.CAPGAIN, bins=132, labels=False)\n",
    "# categorical_attributes.insert(0, \"capgain_bins\")\n",
    "\n",
    "# data_categorical[\"caploss_bins\"] = pd.cut(data.CAPLOSS, bins=113, labels=False)\n",
    "# categorical_attributes.insert(0, \"caploss_bins\")"
   ]
  },
  {
   "cell_type": "code",
   "execution_count": 9,
   "metadata": {
    "collapsed": true
   },
   "outputs": [],
   "source": [
    "def iterate(accuracies):\n",
    "    \n",
    "    # Take a random samples of all data\n",
    "    # and divide it equally into train and test of size 2000 each.\n",
    "    data_randomised = data_categorical.iloc[np.random.permutation(data_categorical.shape[0])]\n",
    "    train = data_randomised.iloc[:10000]\n",
    "    test = data_randomised.iloc[10000:20000]\n",
    "    \n",
    "    # Separate the train data classwise.\n",
    "    class_less = train.loc[data_categorical.INCOME == \" - 50000.\", :]\n",
    "    class_more = train.loc[data_categorical.INCOME == \" 50000+.\", :]\n",
    "\n",
    "    # Compute number on instances classwise and total.\n",
    "    num_less = class_less.shape[0]\n",
    "    num_more = class_more.shape[0]\n",
    "    num_total = train.shape[0]\n",
    "\n",
    "    # Compute priors for each class\n",
    "    prob_less = num_less/num_total\n",
    "    prob_more = num_more/num_total\n",
    "\n",
    "    # Use log probabilities to avoid numerical errors\n",
    "    log_prob_less = log(prob_less)\n",
    "    log_prob_more = log(prob_more)\n",
    "    \n",
    "    # Compute likelihoods and take log of them\n",
    "    probabilities = {}\n",
    "\n",
    "    for categorical_attribute in categorical_attributes[:-1]:\n",
    "        probabilities[categorical_attribute] = {\n",
    "            \" - 50000.\" : dict(class_less[categorical_attribute].value_counts()/num_less),\n",
    "            \" 50000+.\" : dict(class_more[categorical_attribute].value_counts()/num_more)\n",
    "        }\n",
    "\n",
    "    for categorical_attribute in probabilities.keys():\n",
    "        for sal_class in probabilities[categorical_attribute].keys():\n",
    "            for attribute_val in probabilities[categorical_attribute][sal_class].keys():\n",
    "                probabilities[categorical_attribute][sal_class][attribute_val] = \\\n",
    "                log(probabilities[categorical_attribute][sal_class][attribute_val])\n",
    "                \n",
    "    # Predict\n",
    "    results = []\n",
    "\n",
    "    for i in range(test.shape[0]):\n",
    "        record = test.iloc[i:i+1]\n",
    "\n",
    "        posterior_less = 0\n",
    "        posterior_more = 0\n",
    "\n",
    "        for categorical_attribute in categorical_attributes[:-1]:\n",
    "    \n",
    "            if record[categorical_attribute].iloc[0] in probabilities[categorical_attribute][\" - 50000.\"].keys():\n",
    "                posterior_less = posterior_less + \\\n",
    "                probabilities[categorical_attribute][\" - 50000.\"][record[categorical_attribute].iloc[0]]\n",
    "    \n",
    "            if record[categorical_attribute].iloc[0] in probabilities[categorical_attribute][\" 50000+.\"].keys():\n",
    "                posterior_more = posterior_more + \\\n",
    "                probabilities[categorical_attribute][\" 50000+.\"][record[categorical_attribute].iloc[0]]\n",
    "\n",
    "        posterior_less = posterior_less + log_prob_less\n",
    "        posterior_more = posterior_more + log_prob_more\n",
    "\n",
    "        if posterior_less >= posterior_more:\n",
    "            cur_class = \" - 50000.\"\n",
    "        else:\n",
    "            cur_class = \" 50000+.\"\n",
    "    \n",
    "        results.append(cur_class)\n",
    "    \n",
    "    test['PREDICTION'] = results\n",
    "    \n",
    "    # Compute accuracy\n",
    "    accuracies.append(accuracy_score(test.INCOME, test.PREDICTION))"
   ]
  },
  {
   "cell_type": "code",
   "execution_count": 10,
   "metadata": {
    "collapsed": false
   },
   "outputs": [
    {
     "name": "stdout",
     "output_type": "stream",
     "text": [
      "Mean accuracy:  0.71157\n",
      "Standard deviation of accuracies:  0.00954798931713\n"
     ]
    }
   ],
   "source": [
    "# Run 10 times to compute mean and standard deviation of accuracy\n",
    "accuracies = []\n",
    "for i in range(10):\n",
    "    iterate(accuracies)\n",
    "    \n",
    "print(\"Mean accuracy: \", np.mean(accuracies))\n",
    "print(\"Standard deviation of accuracies: \", np.std(accuracies))"
   ]
  },
  {
   "cell_type": "code",
   "execution_count": null,
   "metadata": {
    "collapsed": true
   },
   "outputs": [],
   "source": []
  }
 ],
 "metadata": {
  "anaconda-cloud": {},
  "kernelspec": {
   "display_name": "Python [Root]",
   "language": "python",
   "name": "Python [Root]"
  },
  "language_info": {
   "codemirror_mode": {
    "name": "ipython",
    "version": 3
   },
   "file_extension": ".py",
   "mimetype": "text/x-python",
   "name": "python",
   "nbconvert_exporter": "python",
   "pygments_lexer": "ipython3",
   "version": "3.5.2"
  }
 },
 "nbformat": 4,
 "nbformat_minor": 0
}
