{
 "cells": [
  {
   "cell_type": "code",
   "execution_count": 103,
   "metadata": {
    "collapsed": false
   },
   "outputs": [],
   "source": [
    "import pandas as pd\n",
    "import numpy as np\n",
    "import seaborn as sns\n",
    "import matplotlib\n",
    "import matplotlib.pyplot as plt\n",
    "% config InlineBackend.figure_format = 'png'\n",
    "% matplotlib inline"
   ]
  },
  {
   "cell_type": "code",
   "execution_count": 41,
   "metadata": {
    "collapsed": false
   },
   "outputs": [],
   "source": [
    "data = pd.read_csv(\"census/census-income.data\")"
   ]
  },
  {
   "cell_type": "code",
   "execution_count": 44,
   "metadata": {
    "collapsed": false
   },
   "outputs": [],
   "source": [
    "categorical_attributes = ['ACLSWKR','ADTIND','ADTOCC','AHGA','AHSCOL','AMARITL','AMJIND','AMJOCC','ARACE',\n",
    "                          'AREORGN','ASEX','AUNMEM','AUNTYPE','AWKSTAT','FILESTAT','GRINREG','GRINST','HHDFMX',\n",
    "                          'HHDREL','MIGMTR1','MIGMTR3','MIGMTR4','MIGSAME','MIGSUN','PARENT','PEFNTVTY',\n",
    "                          'PEMNTVTY','PENATVTY','PRCITSHP','SEOTR','VETQVA','VETYN','YEAR']"
   ]
  },
  {
   "cell_type": "code",
   "execution_count": 176,
   "metadata": {
    "collapsed": false
   },
   "outputs": [],
   "source": [
    "data_categorical = data.loc[:,categorical_attributes]"
   ]
  },
  {
   "cell_type": "code",
   "execution_count": 203,
   "metadata": {
    "collapsed": false
   },
   "outputs": [],
   "source": [
    "# Fix missing values to mode\n",
    "data_categorical.loc[data_categorical.GRINST == \" ?\", \"GRINST\"] = \\\n",
    "data_categorical.loc[data_categorical.GRINST != \" ?\", \"GRINST\"].mode().iloc[0]\n",
    "\n",
    "data_categorical.loc[data_categorical.MIGMTR3 == \" ?\", \"MIGMTR3\"] = \\\n",
    "data_categorical.loc[data_categorical.MIGMTR3 != \" ?\", \"MIGMTR3\"].mode().iloc[0]\n",
    "\n",
    "data_categorical.loc[data_categorical.MIGMTR3 == \" ?\", \"MIGMTR3\"] = \\\n",
    "data_categorical.loc[data_categorical.MIGMTR3 != \" ?\", \"MIGMTR3\"].mode().iloc[0]\n",
    "\n",
    "data_categorical.loc[data_categorical.MIGMTR4 == \" ?\", \"MIGMTR4\"] = \\\n",
    "data_categorical.loc[data_categorical.MIGMTR4 != \" ?\", \"MIGMTR4\"].mode().iloc[0]\n",
    "\n",
    "data_categorical.loc[data_categorical.MIGSAME == \" ?\", \"MIGSAME\"] = \\\n",
    "data_categorical.loc[data_categorical.MIGSAME != \" ?\", \"MIGSAME\"].mode().iloc[0]\n",
    "\n",
    "data_categorical.loc[data_categorical.PEFNTVTY == \" ?\", \"PEFNTVTY\"] = \\\n",
    "data_categorical.loc[data_categorical.PEFNTVTY != \" ?\", \"PEFNTVTY\"].mode().iloc[0]\n",
    "\n",
    "data_categorical.loc[data_categorical.PEMNTVTY == \" ?\", \"PEMNTVTY\"] = \\\n",
    "data_categorical.loc[data_categorical.PEMNTVTY != \" ?\", \"PEMNTVTY\"].mode().iloc[0]\n",
    "\n",
    "data_categorical.loc[data_categorical.PENATVTY == \" ?\", \"PENATVTY\"] = \\\n",
    "data_categorical.loc[data_categorical.PENATVTY != \" ?\", \"PENATVTY\"].mode().iloc[0]"
   ]
  },
  {
   "cell_type": "code",
   "execution_count": null,
   "metadata": {
    "collapsed": false
   },
   "outputs": [],
   "source": []
  },
  {
   "cell_type": "code",
   "execution_count": 96,
   "metadata": {
    "collapsed": false
   },
   "outputs": [
    {
     "data": {
      "text/plain": [
       "(99761, 33)"
      ]
     },
     "execution_count": 96,
     "metadata": {},
     "output_type": "execute_result"
    }
   ],
   "source": [
    "data_randomised = data_categorical.iloc[np.random.permutation(data_categorical.shape[0])]\n",
    "train = data_randomised.iloc[:99762]\n",
    "test = data_randomised.iloc[99762:]"
   ]
  },
  {
   "cell_type": "code",
   "execution_count": null,
   "metadata": {
    "collapsed": true
   },
   "outputs": [],
   "source": []
  }
 ],
 "metadata": {
  "kernelspec": {
   "display_name": "Python [Root]",
   "language": "python",
   "name": "Python [Root]"
  },
  "language_info": {
   "codemirror_mode": {
    "name": "ipython",
    "version": 3
   },
   "file_extension": ".py",
   "mimetype": "text/x-python",
   "name": "python",
   "nbconvert_exporter": "python",
   "pygments_lexer": "ipython3",
   "version": "3.5.2"
  }
 },
 "nbformat": 4,
 "nbformat_minor": 0
}
