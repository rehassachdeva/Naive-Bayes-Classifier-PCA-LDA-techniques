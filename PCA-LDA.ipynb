{
 "cells": [
  {
   "cell_type": "code",
   "execution_count": 2,
   "metadata": {
    "collapsed": true
   },
   "outputs": [],
   "source": [
    "# Imports\n",
    "import pandas as pd\n",
    "import numpy as np\n",
    "from warnings import filterwarnings\n",
    "\n",
    "# Disable warnings from being printed\n",
    "filterwarnings('ignore')"
   ]
  },
  {
   "cell_type": "code",
   "execution_count": 3,
   "metadata": {
    "collapsed": false
   },
   "outputs": [],
   "source": [
    "fileN = 800\n",
    "fileM = 100000\n",
    "\n",
    "def read_data(filename):\n",
    "    data = pd.DataFrame(columns=range(fileM))\n",
    "    with open(filename, 'r') as datafile:\n",
    "        lines = datafile.readlines()\n",
    "        for i in range(len(lines)):\n",
    "            record = np.fromstring(lines[i], dtype=int, sep=' ')\n",
    "            record_bool = [0 for i in range(fileM)]\n",
    "            for col in record:\n",
    "                record_bool[col-1] = 1\n",
    "            data.loc[i] = record_bool\n",
    "    return data\n",
    "\n",
    "def read_labels(filename):\n",
    "    labels = []\n",
    "    with open(filename, 'r') as datafile:\n",
    "        lines = datafile.readlines()\n",
    "        for line in lines:\n",
    "            labels.append(np.fromstring(line[0], dtype=int, sep=' '))\n",
    "    return labels\n",
    "\n",
    "# Read the data into dataframe\n",
    "train_data = read_data(\"dorothea/dorothea_train.data\")\n",
    "\n",
    "# Get the labels of the train data\n",
    "train_data_labels = read_labels(\"dorothea/dorothea_train.labels\")"
   ]
  },
  {
   "cell_type": "code",
   "execution_count": 10,
   "metadata": {
    "collapsed": false
   },
   "outputs": [],
   "source": [
    "# Compute data which is constant in different runs pf pca\n",
    "# Center the data around mean\n",
    "data_centered = train_data - np.mean(train_data, axis=0)\n",
    "\n",
    "# Compute the covariance matrix (xx' i.e nXn), and find eigenvalues and eigenvectors\n",
    "cov_matrix = data_centered.transpose().cov()\n",
    "eigenvalues, eigenvectors = np.linalg.eig(cov_matrix)\n",
    "\n",
    "# Now eigenvectors of x'x matrix can be obtained from these by multiplying by x', eigenvalues remain same\n",
    "eigenvectors = np.dot(np.transpose(data_centered), eigenvectors)\n",
    "\n",
    "# Sort the eigenvectors in decreasing order of eigenvalues\n",
    "sort_order = np.argsort(eigenvalues)[::-1]\n",
    "new_eigenvectors = np.zeros(eigenvectors.shape)\n",
    "for i in range(eigenvalues.shape[0]):\n",
    "    new_eigenvectors[:, i] = eigenvectors[:, sort_order[i]]"
   ]
  },
  {
   "cell_type": "code",
   "execution_count": 17,
   "metadata": {
    "collapsed": false
   },
   "outputs": [],
   "source": [
    "# Get data in the new feature space of reduced dimensionality.\n",
    "def pca_(k):\n",
    "    # Get first K eigenvectors\n",
    "    k = 100\n",
    "    eigenpairs_firstK = new_eigenvectors[:, :k]\n",
    "    \n",
    "    # Get data in reduced dimension space\n",
    "    projected_data = np.dot(data_centered, eigenpairs_firstK)\n",
    "    \n",
    "    return projected_data"
   ]
  },
  {
   "cell_type": "code",
   "execution_count": 22,
   "metadata": {
    "collapsed": false
   },
   "outputs": [
    {
     "data": {
      "text/plain": [
       "array([[ -6.32850268e+01,  -5.43051881e+01,  -4.80361645e+01, ...,\n",
       "         -8.80464163e+00,  -1.50051721e+00,  -3.21771842e+01],\n",
       "       [ -9.25665240e+01,  -3.30053539e+01,  -6.52298515e+01, ...,\n",
       "          2.19743468e-01,  -1.29216052e+01,   2.59250114e+01],\n",
       "       [ -9.35394659e+01,  -4.57370007e+01,  -6.79464162e+01, ...,\n",
       "         -1.80609752e+00,   6.16340601e+00,  -5.43663162e-01],\n",
       "       ..., \n",
       "       [  5.79674847e+02,  -1.86917856e+02,   2.79890305e+02, ...,\n",
       "          9.16322309e+01,  -6.95559640e+01,  -6.61201140e+01],\n",
       "       [ -9.24260720e+01,  -2.29182922e+01,  -6.22005122e+01, ...,\n",
       "         -1.29809935e+01,  -8.96329587e-02,  -1.63433875e+01],\n",
       "       [ -1.11818493e+02,  -3.62876092e+01,  -4.90356842e+01, ...,\n",
       "         -3.59491227e+01,   9.69300213e+00,  -1.75719073e+01]])"
      ]
     },
     "execution_count": 22,
     "metadata": {},
     "output_type": "execute_result"
    }
   ],
   "source": [
    "projected_data"
   ]
  },
  {
   "cell_type": "code",
   "execution_count": null,
   "metadata": {
    "collapsed": true
   },
   "outputs": [],
   "source": []
  }
 ],
 "metadata": {
  "anaconda-cloud": {},
  "kernelspec": {
   "display_name": "Python [Root]",
   "language": "python",
   "name": "Python [Root]"
  },
  "language_info": {
   "codemirror_mode": {
    "name": "ipython",
    "version": 3
   },
   "file_extension": ".py",
   "mimetype": "text/x-python",
   "name": "python",
   "nbconvert_exporter": "python",
   "pygments_lexer": "ipython3",
   "version": "3.5.2"
  }
 },
 "nbformat": 4,
 "nbformat_minor": 0
}
